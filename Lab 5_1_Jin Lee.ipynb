{
 "cells": [
  {
   "cell_type": "markdown",
   "metadata": {},
   "source": [
    "# Lab 5-1 / Intro to ATLAS Data\n",
    "### : Emulating the simple histogram example\n",
    "\n",
    "PHYS 427\\\n",
    "2/25/2020 (Tue)\\\n",
    "Jin Kyoung Lee\n",
    "\n",
    "In this assignment, we will emulate the simple histogram example from Jupyter notebooks (# of leptons)"
   ]
  },
  {
   "cell_type": "code",
   "execution_count": 1,
   "metadata": {},
   "outputs": [],
   "source": [
    "# Importing libraries\n",
    "%matplotlib inline\n",
    "import matplotlib\n",
    "import matplotlib.pyplot as plt\n",
    "import numpy as np\n",
    "import uproot\n",
    "import seaborn as sns\n",
    "import pandas as pd\n",
    "from sklearn import preprocessing"
   ]
  },
  {
   "cell_type": "markdown",
   "metadata": {},
   "source": [
    "### - Using the same data used in example notebook"
   ]
  },
  {
   "cell_type": "code",
   "execution_count": 2,
   "metadata": {},
   "outputs": [],
   "source": [
    "# Importing root file\n",
    "test = uproot.open(\"ATLAS_13TeV_2020/test.root\")\n",
    "# test.root: this is the root file (13TeV) used in the simple histograms example"
   ]
  },
  {
   "cell_type": "code",
   "execution_count": 3,
   "metadata": {},
   "outputs": [
    {
     "data": {
      "text/plain": [
       "[b'mini;1']"
      ]
     },
     "execution_count": 3,
     "metadata": {},
     "output_type": "execute_result"
    }
   ],
   "source": [
    "test.keys()"
   ]
  },
  {
   "cell_type": "code",
   "execution_count": 4,
   "metadata": {},
   "outputs": [],
   "source": [
    "test_tree = test[\"mini\"]"
   ]
  },
  {
   "cell_type": "code",
   "execution_count": 5,
   "metadata": {},
   "outputs": [
    {
     "data": {
      "text/plain": [
       "[b'runNumber',\n",
       " b'eventNumber',\n",
       " b'channelNumber',\n",
       " b'mcWeight',\n",
       " b'scaleFactor_PILEUP',\n",
       " b'scaleFactor_ELE',\n",
       " b'scaleFactor_MUON',\n",
       " b'scaleFactor_PHOTON',\n",
       " b'scaleFactor_TAU',\n",
       " b'scaleFactor_BTAG',\n",
       " b'scaleFactor_LepTRIGGER',\n",
       " b'scaleFactor_PhotonTRIGGER',\n",
       " b'trigE',\n",
       " b'trigM',\n",
       " b'trigP',\n",
       " b'lep_n',\n",
       " b'lep_truthMatched',\n",
       " b'lep_trigMatched',\n",
       " b'lep_pt',\n",
       " b'lep_eta',\n",
       " b'lep_phi',\n",
       " b'lep_E',\n",
       " b'lep_z0',\n",
       " b'lep_charge',\n",
       " b'lep_type',\n",
       " b'lep_isTightID',\n",
       " b'lep_ptcone30',\n",
       " b'lep_etcone20',\n",
       " b'lep_trackd0pvunbiased',\n",
       " b'lep_tracksigd0pvunbiased',\n",
       " b'met_et',\n",
       " b'met_phi',\n",
       " b'jet_n',\n",
       " b'jet_pt',\n",
       " b'jet_eta',\n",
       " b'jet_phi',\n",
       " b'jet_E',\n",
       " b'jet_jvt',\n",
       " b'jet_trueflav',\n",
       " b'jet_truthMatched',\n",
       " b'jet_MV2c10',\n",
       " b'photon_n',\n",
       " b'photon_truthMatched',\n",
       " b'photon_trigMatched',\n",
       " b'photon_pt',\n",
       " b'photon_eta',\n",
       " b'photon_phi',\n",
       " b'photon_E',\n",
       " b'photon_isTightID',\n",
       " b'photon_ptcone30',\n",
       " b'photon_etcone20',\n",
       " b'photon_convType',\n",
       " b'tau_n',\n",
       " b'tau_pt',\n",
       " b'tau_eta',\n",
       " b'tau_phi',\n",
       " b'tau_E',\n",
       " b'tau_isTightID',\n",
       " b'tau_truthMatched',\n",
       " b'tau_trigMatched',\n",
       " b'tau_nTracks',\n",
       " b'tau_BDTid',\n",
       " b'ditau_m',\n",
       " b'lep_pt_syst',\n",
       " b'met_et_syst',\n",
       " b'jet_pt_syst',\n",
       " b'photon_pt_syst',\n",
       " b'tau_pt_syst',\n",
       " b'XSection',\n",
       " b'SumWeights',\n",
       " b'largeRjet_n',\n",
       " b'largeRjet_pt',\n",
       " b'largeRjet_eta',\n",
       " b'largeRjet_phi',\n",
       " b'largeRjet_E',\n",
       " b'largeRjet_m',\n",
       " b'largeRjet_truthMatched',\n",
       " b'largeRjet_D2',\n",
       " b'largeRjet_tau32',\n",
       " b'largeRjet_pt_syst',\n",
       " b'tau_charge']"
      ]
     },
     "execution_count": 5,
     "metadata": {},
     "output_type": "execute_result"
    }
   ],
   "source": [
    "test_tree.keys()"
   ]
  },
  {
   "cell_type": "code",
   "execution_count": 6,
   "metadata": {},
   "outputs": [],
   "source": [
    "test_lep_num = test_tree.array(\"lep_n\") # lep_n: number of pre-selected leptons"
   ]
  },
  {
   "cell_type": "code",
   "execution_count": 7,
   "metadata": {},
   "outputs": [],
   "source": [
    "# Plotting histogram\n",
    "def hist(lep_num, binNum): # Defining function for plotting histogram\n",
    "    plt.figure(figsize = (10, 5))\n",
    "    sns.distplot(lep_num, kde = False, bins = binNum)\n",
    "    plt.title(\"\\nNumber of leptons\\n\")\n",
    "    plt.show()\n",
    "    print(\"\\nEntries:\", len(lep_num), \"| Mean:\", np.mean(lep_num), \"| Std:\", np.std(lep_num))"
   ]
  },
  {
   "cell_type": "code",
   "execution_count": 8,
   "metadata": {},
   "outputs": [
    {
     "data": {
      "image/png": "[encoded data removed]",
      "text/plain": [
       "<Figure size 720x360 with 1 Axes>"
      ]
     },
     "metadata": {
      "needs_background": "light"
     },
     "output_type": "display_data"
    },
    {
     "name": "stdout",
     "output_type": "stream",
     "text": [
      "\n",
      "Entries: 53653 | Mean: 1.7270982051329842 | Std: 0.45591378387840964\n"
     ]
    }
   ],
   "source": [
    "# Plotting histogram of number of leptons\n",
    "hist(test_lep_num,3)"
   ]
  },
  {
   "cell_type": "code",
   "execution_count": 9,
   "metadata": {},
   "outputs": [],
   "source": [
    "# Normalization of data\n",
    "norm = preprocessing.normalize(test_lep_num.reshape(-1,1))"
   ]
  },
  {
   "cell_type": "code",
   "execution_count": 10,
   "metadata": {},
   "outputs": [
    {
     "data": {
      "image/png": "[encoded data removed]",
      "text/plain": [
       "<Figure size 720x360 with 1 Axes>"
      ]
     },
     "metadata": {
      "needs_background": "light"
     },
     "output_type": "display_data"
    },
    {
     "name": "stdout",
     "output_type": "stream",
     "text": [
      "\n",
      "Entries: 53653 | Mean: 1.0 | Std: 0.0\n"
     ]
    }
   ],
   "source": [
    "# Plotting histogram of normalized data\n",
    "hist(norm, 3)"
   ]
  },
  {
   "cell_type": "markdown",
   "metadata": {},
   "source": [
    "### - Using downloaded data (other than the one used in example notebook)"
   ]
  },
  {
   "cell_type": "code",
   "execution_count": 11,
   "metadata": {},
   "outputs": [
    {
     "data": {
      "text/plain": [
       "[b'mini;1']"
      ]
     },
     "execution_count": 11,
     "metadata": {},
     "output_type": "execute_result"
    }
   ],
   "source": [
    "lep4_C = uproot.open(\"ATLAS_13TeV_2020/4lep/4lep/data/data_C.4lep.root\")\n",
    "# data_C.4lep.root: ATLAS 13 TeV samples collection at least four leptons (electron or muon),\n",
    "# for 2020 Open Data release; ..4lep/Data/data_C.4lep.root (http://opendata.cern.ch/record/15005)\n",
    "lep4_C.keys()"
   ]
  },
  {
   "cell_type": "code",
   "execution_count": 12,
   "metadata": {},
   "outputs": [],
   "source": [
    "lep4_C_tree = lep4_C[\"mini\"]"
   ]
  },
  {
   "cell_type": "code",
   "execution_count": 13,
   "metadata": {},
   "outputs": [
    {
     "data": {
      "image/png": "[encoded data removed]",
      "text/plain": [
       "<Figure size 720x360 with 1 Axes>"
      ]
     },
     "metadata": {
      "needs_background": "light"
     },
     "output_type": "display_data"
    },
    {
     "name": "stdout",
     "output_type": "stream",
     "text": [
      "\n",
      "Entries: 237 | Mean: 4.0042194092827 | Std: 0.06481979534066336\n"
     ]
    }
   ],
   "source": [
    "lep4_C_lep_num = lep4_C_tree.array(\"lep_n\")\n",
    "hist(lep4_C_lep_num, 2)"
   ]
  },
  {
   "cell_type": "code",
   "execution_count": 14,
   "metadata": {},
   "outputs": [],
   "source": [
    "norm_lep4 = preprocessing.normalize(lep4_C_lep_num.reshape(-1,1))"
   ]
  },
  {
   "cell_type": "code",
   "execution_count": 15,
   "metadata": {},
   "outputs": [
    {
     "data": {
      "image/png": "[encoded data removed]",
      "text/plain": [
       "<Figure size 720x360 with 1 Axes>"
      ]
     },
     "metadata": {
      "needs_background": "light"
     },
     "output_type": "display_data"
    },
    {
     "name": "stdout",
     "output_type": "stream",
     "text": [
      "\n",
      "Entries: 237 | Mean: 1.0 | Std: 0.0\n"
     ]
    }
   ],
   "source": [
    "hist(norm_lep4, 3)"
   ]
  },
  {
   "cell_type": "code",
   "execution_count": null,
   "metadata": {},
   "outputs": [],
   "source": []
  }
 ],
 "metadata": {
  "kernelspec": {
   "display_name": "Python 3",
   "language": "python",
   "name": "python3"
  },
  "language_info": {
   "codemirror_mode": {
    "name": "ipython",
    "version": 3
   },
   "file_extension": ".py",
   "mimetype": "text/x-python",
   "name": "python",
   "nbconvert_exporter": "python",
   "pygments_lexer": "ipython3",
   "version": "3.7.6"
  }
 },
 "nbformat": 4,
 "nbformat_minor": 4
}
